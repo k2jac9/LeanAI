{
 "cells": [
  {
   "cell_type": "markdown",
   "id": "d15b8222",
   "metadata": {},
   "source": [
    "# Body Fat Prediction: Data Analysis and Model Building"
   ]
  },
  {
   "cell_type": "markdown",
   "id": "76986bc1",
   "metadata": {},
   "source": [
    "## 1. Data Loading"
   ]
  },
  {
   "cell_type": "code",
   "execution_count": null,
   "id": "217b35fb",
   "metadata": {},
   "outputs": [],
   "source": [
    "\n",
    "import pandas as pd\n",
    "import matplotlib.pyplot as plt\n",
    "import seaborn as sns\n",
    "\n",
    "# Load data\n",
    "df = pd.read_csv(\"bodyfat.csv\")\n",
    "\n",
    "# Display first few rows\n",
    "df.head()\n",
    "    "
   ]
  },
  {
   "cell_type": "markdown",
   "id": "d2e35734",
   "metadata": {},
   "source": [
    "## 2. Data Analysis"
   ]
  },
  {
   "cell_type": "code",
   "execution_count": null,
   "id": "98695d86",
   "metadata": {},
   "outputs": [],
   "source": [
    "\n",
    "# Check data information\n",
    "df.info()\n",
    "    "
   ]
  },
  {
   "cell_type": "code",
   "execution_count": null,
   "id": "cbac91f1",
   "metadata": {},
   "outputs": [],
   "source": [
    "\n",
    "# Summary statistics\n",
    "df.describe()\n",
    "    "
   ]
  },
  {
   "cell_type": "markdown",
   "id": "efd1c037",
   "metadata": {},
   "source": [
    "## 3. Correlation Analysis"
   ]
  },
  {
   "cell_type": "code",
   "execution_count": null,
   "id": "27296b5d",
   "metadata": {},
   "outputs": [],
   "source": [
    "\n",
    "# Compute correlation matrix\n",
    "correlation_matrix = df.corr()\n",
    "\n",
    "# Visualize correlation matrix\n",
    "plt.figure(figsize=(12, 8))\n",
    "sns.heatmap(correlation_matrix, annot=True, fmt=\".2f\", cmap=\"coolwarm\", linewidths=0.5)\n",
    "plt.title(\"Feature Correlation Matrix\")\n",
    "plt.show()\n",
    "    "
   ]
  },
  {
   "cell_type": "code",
   "execution_count": null,
   "id": "5aa0e6a5",
   "metadata": {},
   "outputs": [],
   "source": [
    "\n",
    "# Display correlation with target variable\n",
    "correlation_with_target = correlation_matrix[\"BodyFat\"].sort_values(ascending=False)\n",
    "correlation_with_target\n",
    "    "
   ]
  },
  {
   "cell_type": "markdown",
   "id": "81e24efb",
   "metadata": {},
   "source": [
    "## 4. Feature Selection and Data Preparation"
   ]
  },
  {
   "cell_type": "code",
   "execution_count": null,
   "id": "57a2e50c",
   "metadata": {},
   "outputs": [],
   "source": [
    "\n",
    "from sklearn.model_selection import train_test_split\n",
    "from sklearn.preprocessing import StandardScaler\n",
    "\n",
    "# Select most important features\n",
    "selected_features = [\"Abdomen\", \"Chest\", \"Hip\", \"Weight\", \"Thigh\", \"Knee\", \"Biceps\", \"Neck\"]\n",
    "\n",
    "# Split data into training and testing sets\n",
    "X = df[selected_features]\n",
    "y = df[\"BodyFat\"]\n",
    "X_train, X_test, y_train, y_test = train_test_split(X, y, test_size=0.2, random_state=42)\n",
    "\n",
    "# Standardization\n",
    "scaler = StandardScaler()\n",
    "X_train_scaled = scaler.fit_transform(X_train)\n",
    "X_test_scaled = scaler.transform(X_test)\n",
    "    "
   ]
  },
  {
   "cell_type": "markdown",
   "id": "1ae7bb96",
   "metadata": {},
   "source": [
    "## 5. Model Training and Comparison"
   ]
  },
  {
   "cell_type": "code",
   "execution_count": null,
   "id": "9296b659",
   "metadata": {},
   "outputs": [],
   "source": [
    "\n",
    "from sklearn.pipeline import Pipeline\n",
    "from sklearn.linear_model import LinearRegression, Ridge, Lasso\n",
    "from sklearn.ensemble import RandomForestRegressor\n",
    "from sklearn.metrics import mean_absolute_error, mean_squared_error, r2_score\n",
    "\n",
    "# Define models for comparison\n",
    "models = {\n",
    "    \"LinearRegression\": LinearRegression(),\n",
    "    \"Ridge\": Ridge(alpha=1.0),\n",
    "    \"Lasso\": Lasso(alpha=0.1),\n",
    "    \"RandomForest\": RandomForestRegressor(n_estimators=100, random_state=42)\n",
    "}\n",
    "\n",
    "# Create a pipeline for preprocessing and training\n",
    "results = {}\n",
    "for name, model in models.items():\n",
    "    pipeline = Pipeline([\n",
    "        (\"scaler\", StandardScaler()),\n",
    "        (\"regressor\", model)\n",
    "    ])\n",
    "    \n",
    "    # Train model\n",
    "    pipeline.fit(X_train, y_train)\n",
    "    \n",
    "    # Make predictions\n",
    "    y_pred = pipeline.predict(X_test)\n",
    "    \n",
    "    # Evaluate model performance\n",
    "    mae = mean_absolute_error(y_test, y_pred)\n",
    "    mse = mean_squared_error(y_test, y_pred)\n",
    "    r2 = r2_score(y_test, y_pred)\n",
    "    \n",
    "    results[name] = {\"MAE\": mae, \"MSE\": mse, \"R2\": r2}\n",
    "\n",
    "# Convert results to DataFrame for easy comparison\n",
    "results_df = pd.DataFrame(results).T\n",
    "\n",
    "# Display results\n",
    "results_df\n",
    "    "
   ]
  },
  {
   "cell_type": "markdown",
   "id": "8f6475f5",
   "metadata": {},
   "source": [
    "## 6. Training the Final Model"
   ]
  },
  {
   "cell_type": "code",
   "execution_count": null,
   "id": "af58d583",
   "metadata": {},
   "outputs": [],
   "source": [
    "\n",
    "import joblib\n",
    "\n",
    "# Final pipeline with RandomForest\n",
    "final_pipeline = Pipeline([\n",
    "    (\"scaler\", StandardScaler()),\n",
    "    (\"regressor\", RandomForestRegressor(n_estimators=100, random_state=42))\n",
    "])\n",
    "\n",
    "# Train on full dataset\n",
    "final_pipeline.fit(X, y)\n",
    "\n",
    "# Save model\n",
    "joblib.dump(final_pipeline, \"bodyfat_model.pkl\")\n",
    "    "
   ]
  },
  {
   "cell_type": "markdown",
   "id": "9b7b674c",
   "metadata": {},
   "source": [
    "## 7. Deployment Script for Predictions"
   ]
  },
  {
   "cell_type": "code",
   "execution_count": null,
   "id": "d8a8afd6",
   "metadata": {},
   "outputs": [],
   "source": [
    "\n",
    "prod_code = \"\"\"\n",
    "import pandas as pd\n",
    "import joblib\n",
    "\n",
    "# Load model\n",
    "model = joblib.load(\"bodyfat_model.pkl\")\n",
    "\n",
    "def predict_bodyfat(data):\n",
    "    \"\"\"Takes a DataFrame with input data and returns predictions.\"\"\"\n",
    "    return model.predict(data)\n",
    "\n",
    "# Example usage\n",
    "if __name__ == \"__main__\":\n",
    "    sample_data = pd.DataFrame([[85, 95, 100, 180, 60, 38, 32, 37]], \n",
    "                               columns=[\"Abdomen\", \"Chest\", \"Hip\", \"Weight\", \"Thigh\", \"Knee\", \"Biceps\", \"Neck\"])\n",
    "    prediction = predict_bodyfat(sample_data)\n",
    "    print(\"Predicted body fat percentage:\", prediction)\n",
    "\"\"\"\n",
    "\n",
    "# Save script\n",
    "with open(\"predict_bodyfat.py\", \"w\", encoding=\"utf-8\") as f:\n",
    "    f.write(prod_code)\n",
    "    "
   ]
  },
  {
   "cell_type": "markdown",
   "id": "9c100b72",
   "metadata": {},
   "source": [
    "Now you have a trained model `bodyfat_model.pkl` and a script `predict_bodyfat.py` for making predictions! 🚀"
   ]
  }
 ],
 "metadata": {},
 "nbformat": 4,
 "nbformat_minor": 5
}
